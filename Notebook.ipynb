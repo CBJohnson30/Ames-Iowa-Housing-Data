{
 "cells": [
  {
   "cell_type": "markdown",
   "metadata": {},
   "source": [
    "# Ames Iowa Housing Data Set"
   ]
  },
  {
   "cell_type": "markdown",
   "metadata": {},
   "source": [
    "The goal in this notebook is to predict the housing prices in Ames Iowa from the years 2006 to 2010."
   ]
  },
  {
   "cell_type": "code",
   "execution_count": 181,
   "metadata": {
    "collapsed": true
   },
   "outputs": [],
   "source": [
    "import pandas as pd\n",
    "import numpy as np\n",
    "import seaborn as sns\n",
    "import matplotlib.pyplot as plt\n",
    "from sklearn import linear_model\n",
    "from sklearn.metrics import mean_squared_error\n",
    "from sklearn.linear_model import Lasso, Ridge\n",
    "from sklearn.neighbors import KNeighborsClassifier\n",
    "from sklearn.model_selection import train_test_split, GridSearchCV\n",
    "from sklearn.pipeline import Pipeline, FeatureUnion\n",
    "from sklearn.preprocessing import StandardScaler, PolynomialFeatures, FunctionTransformer, Imputer\n",
    "from sklearn.feature_extraction.text import CountVectorizer\n",
    "%matplotlib inline"
   ]
  },
  {
   "cell_type": "code",
   "execution_count": 182,
   "metadata": {
    "collapsed": true
   },
   "outputs": [],
   "source": [
    "import warnings\n",
    "warnings.filterwarnings('ignore')"
   ]
  },
  {
   "cell_type": "markdown",
   "metadata": {},
   "source": [
    "Loading the data and doing some basic EDA to make it easier to work with."
   ]
  },
  {
   "cell_type": "code",
   "execution_count": 183,
   "metadata": {
    "scrolled": true
   },
   "outputs": [
    {
     "data": {
      "text/html": [
       "<div>\n",
       "<style>\n",
       "    .dataframe thead tr:only-child th {\n",
       "        text-align: right;\n",
       "    }\n",
       "\n",
       "    .dataframe thead th {\n",
       "        text-align: left;\n",
       "    }\n",
       "\n",
       "    .dataframe tbody tr th {\n",
       "        vertical-align: top;\n",
       "    }\n",
       "</style>\n",
       "<table border=\"1\" class=\"dataframe\">\n",
       "  <thead>\n",
       "    <tr style=\"text-align: right;\">\n",
       "      <th></th>\n",
       "      <th>Id</th>\n",
       "      <th>MS SubClass</th>\n",
       "      <th>MS Zoning</th>\n",
       "      <th>Lot Frontage</th>\n",
       "      <th>Lot Area</th>\n",
       "      <th>Street</th>\n",
       "      <th>Alley</th>\n",
       "      <th>Lot Shape</th>\n",
       "      <th>Land Contour</th>\n",
       "      <th>Utilities</th>\n",
       "      <th>...</th>\n",
       "      <th>3Ssn Porch</th>\n",
       "      <th>Screen Porch</th>\n",
       "      <th>Pool Area</th>\n",
       "      <th>Pool QC</th>\n",
       "      <th>Fence</th>\n",
       "      <th>Misc Feature</th>\n",
       "      <th>Misc Val</th>\n",
       "      <th>Mo Sold</th>\n",
       "      <th>Yr Sold</th>\n",
       "      <th>Sale Type</th>\n",
       "    </tr>\n",
       "  </thead>\n",
       "  <tbody>\n",
       "    <tr>\n",
       "      <th>0</th>\n",
       "      <td>2658</td>\n",
       "      <td>190</td>\n",
       "      <td>RM</td>\n",
       "      <td>69.0</td>\n",
       "      <td>9142</td>\n",
       "      <td>Pave</td>\n",
       "      <td>Grvl</td>\n",
       "      <td>Reg</td>\n",
       "      <td>Lvl</td>\n",
       "      <td>AllPub</td>\n",
       "      <td>...</td>\n",
       "      <td>0</td>\n",
       "      <td>0</td>\n",
       "      <td>0</td>\n",
       "      <td>NaN</td>\n",
       "      <td>NaN</td>\n",
       "      <td>NaN</td>\n",
       "      <td>0</td>\n",
       "      <td>4</td>\n",
       "      <td>2006</td>\n",
       "      <td>WD</td>\n",
       "    </tr>\n",
       "    <tr>\n",
       "      <th>1</th>\n",
       "      <td>2718</td>\n",
       "      <td>90</td>\n",
       "      <td>RL</td>\n",
       "      <td>NaN</td>\n",
       "      <td>9662</td>\n",
       "      <td>Pave</td>\n",
       "      <td>NaN</td>\n",
       "      <td>IR1</td>\n",
       "      <td>Lvl</td>\n",
       "      <td>AllPub</td>\n",
       "      <td>...</td>\n",
       "      <td>0</td>\n",
       "      <td>0</td>\n",
       "      <td>0</td>\n",
       "      <td>NaN</td>\n",
       "      <td>NaN</td>\n",
       "      <td>NaN</td>\n",
       "      <td>0</td>\n",
       "      <td>8</td>\n",
       "      <td>2006</td>\n",
       "      <td>WD</td>\n",
       "    </tr>\n",
       "    <tr>\n",
       "      <th>2</th>\n",
       "      <td>2414</td>\n",
       "      <td>60</td>\n",
       "      <td>RL</td>\n",
       "      <td>58.0</td>\n",
       "      <td>17104</td>\n",
       "      <td>Pave</td>\n",
       "      <td>NaN</td>\n",
       "      <td>IR1</td>\n",
       "      <td>Lvl</td>\n",
       "      <td>AllPub</td>\n",
       "      <td>...</td>\n",
       "      <td>0</td>\n",
       "      <td>0</td>\n",
       "      <td>0</td>\n",
       "      <td>NaN</td>\n",
       "      <td>NaN</td>\n",
       "      <td>NaN</td>\n",
       "      <td>0</td>\n",
       "      <td>9</td>\n",
       "      <td>2006</td>\n",
       "      <td>New</td>\n",
       "    </tr>\n",
       "    <tr>\n",
       "      <th>3</th>\n",
       "      <td>1989</td>\n",
       "      <td>30</td>\n",
       "      <td>RM</td>\n",
       "      <td>60.0</td>\n",
       "      <td>8520</td>\n",
       "      <td>Pave</td>\n",
       "      <td>NaN</td>\n",
       "      <td>Reg</td>\n",
       "      <td>Lvl</td>\n",
       "      <td>AllPub</td>\n",
       "      <td>...</td>\n",
       "      <td>0</td>\n",
       "      <td>0</td>\n",
       "      <td>0</td>\n",
       "      <td>NaN</td>\n",
       "      <td>NaN</td>\n",
       "      <td>NaN</td>\n",
       "      <td>0</td>\n",
       "      <td>7</td>\n",
       "      <td>2007</td>\n",
       "      <td>WD</td>\n",
       "    </tr>\n",
       "    <tr>\n",
       "      <th>4</th>\n",
       "      <td>625</td>\n",
       "      <td>20</td>\n",
       "      <td>RL</td>\n",
       "      <td>NaN</td>\n",
       "      <td>9500</td>\n",
       "      <td>Pave</td>\n",
       "      <td>NaN</td>\n",
       "      <td>IR1</td>\n",
       "      <td>Lvl</td>\n",
       "      <td>AllPub</td>\n",
       "      <td>...</td>\n",
       "      <td>0</td>\n",
       "      <td>185</td>\n",
       "      <td>0</td>\n",
       "      <td>NaN</td>\n",
       "      <td>NaN</td>\n",
       "      <td>NaN</td>\n",
       "      <td>0</td>\n",
       "      <td>7</td>\n",
       "      <td>2009</td>\n",
       "      <td>WD</td>\n",
       "    </tr>\n",
       "  </tbody>\n",
       "</table>\n",
       "<p>5 rows × 79 columns</p>\n",
       "</div>"
      ],
      "text/plain": [
       "     Id  MS SubClass MS Zoning  Lot Frontage  Lot Area Street Alley Lot Shape  \\\n",
       "0  2658          190        RM          69.0      9142   Pave  Grvl       Reg   \n",
       "1  2718           90        RL           NaN      9662   Pave   NaN       IR1   \n",
       "2  2414           60        RL          58.0     17104   Pave   NaN       IR1   \n",
       "3  1989           30        RM          60.0      8520   Pave   NaN       Reg   \n",
       "4   625           20        RL           NaN      9500   Pave   NaN       IR1   \n",
       "\n",
       "  Land Contour Utilities    ...     3Ssn Porch Screen Porch Pool Area Pool QC  \\\n",
       "0          Lvl    AllPub    ...              0            0         0     NaN   \n",
       "1          Lvl    AllPub    ...              0            0         0     NaN   \n",
       "2          Lvl    AllPub    ...              0            0         0     NaN   \n",
       "3          Lvl    AllPub    ...              0            0         0     NaN   \n",
       "4          Lvl    AllPub    ...              0          185         0     NaN   \n",
       "\n",
       "  Fence Misc Feature Misc Val  Mo Sold  Yr Sold  Sale Type  \n",
       "0   NaN          NaN        0        4     2006        WD   \n",
       "1   NaN          NaN        0        8     2006        WD   \n",
       "2   NaN          NaN        0        9     2006        New  \n",
       "3   NaN          NaN        0        7     2007        WD   \n",
       "4   NaN          NaN        0        7     2009        WD   \n",
       "\n",
       "[5 rows x 79 columns]"
      ]
     },
     "execution_count": 183,
     "metadata": {},
     "output_type": "execute_result"
    }
   ],
   "source": [
    "test = pd.read_csv(\"test.csv\")\n",
    "test = test.drop(\"PID\", axis=1)\n",
    "test.head()"
   ]
  },
  {
   "cell_type": "code",
   "execution_count": 184,
   "metadata": {},
   "outputs": [
    {
     "data": {
      "text/plain": [
       "(879, 79)"
      ]
     },
     "execution_count": 184,
     "metadata": {},
     "output_type": "execute_result"
    }
   ],
   "source": [
    "test.shape"
   ]
  },
  {
   "cell_type": "code",
   "execution_count": 185,
   "metadata": {
    "scrolled": true
   },
   "outputs": [
    {
     "data": {
      "text/html": [
       "<div>\n",
       "<style>\n",
       "    .dataframe thead tr:only-child th {\n",
       "        text-align: right;\n",
       "    }\n",
       "\n",
       "    .dataframe thead th {\n",
       "        text-align: left;\n",
       "    }\n",
       "\n",
       "    .dataframe tbody tr th {\n",
       "        vertical-align: top;\n",
       "    }\n",
       "</style>\n",
       "<table border=\"1\" class=\"dataframe\">\n",
       "  <thead>\n",
       "    <tr style=\"text-align: right;\">\n",
       "      <th></th>\n",
       "      <th>Id</th>\n",
       "      <th>MS SubClass</th>\n",
       "      <th>MS Zoning</th>\n",
       "      <th>Lot Frontage</th>\n",
       "      <th>Lot Area</th>\n",
       "      <th>Street</th>\n",
       "      <th>Alley</th>\n",
       "      <th>Lot Shape</th>\n",
       "      <th>Land Contour</th>\n",
       "      <th>Utilities</th>\n",
       "      <th>...</th>\n",
       "      <th>Pool Area</th>\n",
       "      <th>Pool QC</th>\n",
       "      <th>Fence</th>\n",
       "      <th>Misc Feature</th>\n",
       "      <th>Misc Val</th>\n",
       "      <th>Mo Sold</th>\n",
       "      <th>Yr Sold</th>\n",
       "      <th>Sale Type</th>\n",
       "      <th>Sale Condition</th>\n",
       "      <th>SalePrice</th>\n",
       "    </tr>\n",
       "  </thead>\n",
       "  <tbody>\n",
       "    <tr>\n",
       "      <th>0</th>\n",
       "      <td>109</td>\n",
       "      <td>60</td>\n",
       "      <td>RL</td>\n",
       "      <td>NaN</td>\n",
       "      <td>13517</td>\n",
       "      <td>Pave</td>\n",
       "      <td>NaN</td>\n",
       "      <td>IR1</td>\n",
       "      <td>Lvl</td>\n",
       "      <td>AllPub</td>\n",
       "      <td>...</td>\n",
       "      <td>0</td>\n",
       "      <td>NaN</td>\n",
       "      <td>NaN</td>\n",
       "      <td>NaN</td>\n",
       "      <td>0</td>\n",
       "      <td>3</td>\n",
       "      <td>2010</td>\n",
       "      <td>WD</td>\n",
       "      <td>Normal</td>\n",
       "      <td>130500</td>\n",
       "    </tr>\n",
       "    <tr>\n",
       "      <th>1</th>\n",
       "      <td>544</td>\n",
       "      <td>60</td>\n",
       "      <td>RL</td>\n",
       "      <td>43.0</td>\n",
       "      <td>11492</td>\n",
       "      <td>Pave</td>\n",
       "      <td>NaN</td>\n",
       "      <td>IR1</td>\n",
       "      <td>Lvl</td>\n",
       "      <td>AllPub</td>\n",
       "      <td>...</td>\n",
       "      <td>0</td>\n",
       "      <td>NaN</td>\n",
       "      <td>NaN</td>\n",
       "      <td>NaN</td>\n",
       "      <td>0</td>\n",
       "      <td>4</td>\n",
       "      <td>2009</td>\n",
       "      <td>WD</td>\n",
       "      <td>Normal</td>\n",
       "      <td>220000</td>\n",
       "    </tr>\n",
       "    <tr>\n",
       "      <th>2</th>\n",
       "      <td>153</td>\n",
       "      <td>20</td>\n",
       "      <td>RL</td>\n",
       "      <td>68.0</td>\n",
       "      <td>7922</td>\n",
       "      <td>Pave</td>\n",
       "      <td>NaN</td>\n",
       "      <td>Reg</td>\n",
       "      <td>Lvl</td>\n",
       "      <td>AllPub</td>\n",
       "      <td>...</td>\n",
       "      <td>0</td>\n",
       "      <td>NaN</td>\n",
       "      <td>NaN</td>\n",
       "      <td>NaN</td>\n",
       "      <td>0</td>\n",
       "      <td>1</td>\n",
       "      <td>2010</td>\n",
       "      <td>WD</td>\n",
       "      <td>Abnorml</td>\n",
       "      <td>109000</td>\n",
       "    </tr>\n",
       "    <tr>\n",
       "      <th>3</th>\n",
       "      <td>318</td>\n",
       "      <td>60</td>\n",
       "      <td>RL</td>\n",
       "      <td>73.0</td>\n",
       "      <td>9802</td>\n",
       "      <td>Pave</td>\n",
       "      <td>NaN</td>\n",
       "      <td>Reg</td>\n",
       "      <td>Lvl</td>\n",
       "      <td>AllPub</td>\n",
       "      <td>...</td>\n",
       "      <td>0</td>\n",
       "      <td>NaN</td>\n",
       "      <td>NaN</td>\n",
       "      <td>NaN</td>\n",
       "      <td>0</td>\n",
       "      <td>4</td>\n",
       "      <td>2010</td>\n",
       "      <td>WD</td>\n",
       "      <td>Normal</td>\n",
       "      <td>174000</td>\n",
       "    </tr>\n",
       "    <tr>\n",
       "      <th>4</th>\n",
       "      <td>255</td>\n",
       "      <td>50</td>\n",
       "      <td>RL</td>\n",
       "      <td>82.0</td>\n",
       "      <td>14235</td>\n",
       "      <td>Pave</td>\n",
       "      <td>NaN</td>\n",
       "      <td>IR1</td>\n",
       "      <td>Lvl</td>\n",
       "      <td>AllPub</td>\n",
       "      <td>...</td>\n",
       "      <td>0</td>\n",
       "      <td>NaN</td>\n",
       "      <td>NaN</td>\n",
       "      <td>NaN</td>\n",
       "      <td>0</td>\n",
       "      <td>3</td>\n",
       "      <td>2010</td>\n",
       "      <td>WD</td>\n",
       "      <td>Normal</td>\n",
       "      <td>138500</td>\n",
       "    </tr>\n",
       "  </tbody>\n",
       "</table>\n",
       "<p>5 rows × 81 columns</p>\n",
       "</div>"
      ],
      "text/plain": [
       "    Id  MS SubClass MS Zoning  Lot Frontage  Lot Area Street Alley Lot Shape  \\\n",
       "0  109           60        RL           NaN     13517   Pave   NaN       IR1   \n",
       "1  544           60        RL          43.0     11492   Pave   NaN       IR1   \n",
       "2  153           20        RL          68.0      7922   Pave   NaN       Reg   \n",
       "3  318           60        RL          73.0      9802   Pave   NaN       Reg   \n",
       "4  255           50        RL          82.0     14235   Pave   NaN       IR1   \n",
       "\n",
       "  Land Contour Utilities    ...     Pool Area Pool QC Fence Misc Feature  \\\n",
       "0          Lvl    AllPub    ...             0     NaN   NaN          NaN   \n",
       "1          Lvl    AllPub    ...             0     NaN   NaN          NaN   \n",
       "2          Lvl    AllPub    ...             0     NaN   NaN          NaN   \n",
       "3          Lvl    AllPub    ...             0     NaN   NaN          NaN   \n",
       "4          Lvl    AllPub    ...             0     NaN   NaN          NaN   \n",
       "\n",
       "  Misc Val Mo Sold Yr Sold  Sale Type  Sale Condition  SalePrice  \n",
       "0        0       3    2010        WD           Normal     130500  \n",
       "1        0       4    2009        WD           Normal     220000  \n",
       "2        0       1    2010        WD          Abnorml     109000  \n",
       "3        0       4    2010        WD           Normal     174000  \n",
       "4        0       3    2010        WD           Normal     138500  \n",
       "\n",
       "[5 rows x 81 columns]"
      ]
     },
     "execution_count": 185,
     "metadata": {},
     "output_type": "execute_result"
    }
   ],
   "source": [
    "train = pd.read_csv(\"train.csv\")\n",
    "train = train.drop(\"PID\", axis=1)\n",
    "train.head()"
   ]
  },
  {
   "cell_type": "code",
   "execution_count": 186,
   "metadata": {},
   "outputs": [
    {
     "data": {
      "text/plain": [
       "Index(['1st Flr SF', '2nd Flr SF', '3Ssn Porch', 'Alley', 'Bedroom AbvGr',\n",
       "       'Bldg Type', 'Bsmt Cond', 'Bsmt Exposure', 'Bsmt Full Bath',\n",
       "       'Bsmt Half Bath', 'Bsmt Qual', 'Bsmt Unf SF', 'BsmtFin SF 1',\n",
       "       'BsmtFin SF 2', 'BsmtFin Type 1', 'BsmtFin Type 2', 'Central Air',\n",
       "       'Condition 1', 'Condition 2', 'Electrical', 'Enclosed Porch',\n",
       "       'Exter Cond', 'Exter Qual', 'Exterior 1st', 'Exterior 2nd', 'Fence',\n",
       "       'Fireplace Qu', 'Fireplaces', 'Foundation', 'Full Bath', 'Functional',\n",
       "       'Garage Area', 'Garage Cars', 'Garage Cond', 'Garage Finish',\n",
       "       'Garage Qual', 'Garage Type', 'Garage Yr Blt', 'Gr Liv Area',\n",
       "       'Half Bath', 'Heating', 'Heating QC', 'House Style', 'Id',\n",
       "       'Kitchen AbvGr', 'Kitchen Qual', 'Land Contour', 'Land Slope',\n",
       "       'Lot Area', 'Lot Config', 'Lot Frontage', 'Lot Shape',\n",
       "       'Low Qual Fin SF', 'MS SubClass', 'MS Zoning', 'Mas Vnr Area',\n",
       "       'Mas Vnr Type', 'Misc Feature', 'Misc Val', 'Mo Sold', 'Neighborhood',\n",
       "       'Open Porch SF', 'Overall Cond', 'Overall Qual', 'Paved Drive',\n",
       "       'Pool Area', 'Pool QC', 'Roof Matl', 'Roof Style', 'Sale Condition',\n",
       "       'Sale Type', 'SalePrice', 'Screen Porch', 'Street', 'TotRms AbvGrd',\n",
       "       'Total Bsmt SF', 'Utilities', 'Wood Deck SF', 'Year Built',\n",
       "       'Year Remod/Add', 'Yr Sold'],\n",
       "      dtype='object')"
      ]
     },
     "execution_count": 186,
     "metadata": {},
     "output_type": "execute_result"
    }
   ],
   "source": [
    "train.columns.sort_values()"
   ]
  },
  {
   "cell_type": "markdown",
   "metadata": {},
   "source": [
    "cell to turn my dummy columns into categories"
   ]
  },
  {
   "cell_type": "code",
   "execution_count": 187,
   "metadata": {
    "collapsed": true
   },
   "outputs": [],
   "source": [
    "train[\"Land Slope\"] = train[\"Land Slope\"].astype('category')\n",
    "train[\"Neighborhood\"] = train[\"Neighborhood\"].astype('category')\n",
    "train[\"Bldg Type\"] = train[\"Bldg Type\"].astype('category')\n",
    "train[\"Overall Qual\"] = train[\"Overall Qual\"].astype('category')\n",
    "test[\"Land Slope\"] = test[\"Land Slope\"].astype('category')\n",
    "test[\"Neighborhood\"] = test[\"Neighborhood\"].astype('category')\n",
    "test[\"Bldg Type\"] = test[\"Bldg Type\"].astype('category')\n",
    "test[\"Overall Qual\"] = test[\"Overall Qual\"].astype('category')"
   ]
  },
  {
   "cell_type": "markdown",
   "metadata": {},
   "source": [
    "# Train Test Split"
   ]
  },
  {
   "cell_type": "code",
   "execution_count": 188,
   "metadata": {
    "collapsed": true
   },
   "outputs": [],
   "source": [
    "X_train, X_test, y_train, y_test = train_test_split(train, train['SalePrice'],random_state = 33)"
   ]
  },
  {
   "cell_type": "code",
   "execution_count": 189,
   "metadata": {},
   "outputs": [
    {
     "data": {
      "text/plain": [
       "(1538, 81)"
      ]
     },
     "execution_count": 189,
     "metadata": {},
     "output_type": "execute_result"
    }
   ],
   "source": [
    "X_train.shape"
   ]
  },
  {
   "cell_type": "code",
   "execution_count": 190,
   "metadata": {},
   "outputs": [
    {
     "data": {
      "text/plain": [
       "(1538,)"
      ]
     },
     "execution_count": 190,
     "metadata": {},
     "output_type": "execute_result"
    }
   ],
   "source": [
    "y_train.shape"
   ]
  },
  {
   "cell_type": "markdown",
   "metadata": {},
   "source": [
    "# Creating Features"
   ]
  },
  {
   "cell_type": "code",
   "execution_count": 191,
   "metadata": {},
   "outputs": [
    {
     "data": {
      "text/plain": [
       "(1538, 6)"
      ]
     },
     "execution_count": 191,
     "metadata": {},
     "output_type": "execute_result"
    }
   ],
   "source": [
    "def basic_features(df):\n",
    "    return df[[\"Overall Qual\",\"Garage Cars\",\"Garage Area\", \"1st Flr SF\", \"Gr Liv Area\",\"Total Bsmt SF\"]]\n",
    "basic_features_tf = FunctionTransformer(basic_features, validate=False)\n",
    "basic_features(X_train).shape\n",
    "#basic_features(X_train)"
   ]
  },
  {
   "cell_type": "code",
   "execution_count": 192,
   "metadata": {
    "collapsed": true
   },
   "outputs": [],
   "source": [
    "def num_features(df):\n",
    "    return df[['MS SubClass', 'Lot Frontage', 'Lot Area', 'Overall Qual',\n",
    "       'Overall Cond', 'Year Built', 'Year Remod/Add', 'Mas Vnr Area',\n",
    "       'BsmtFin SF 1', 'BsmtFin SF 2', 'Bsmt Unf SF', 'Total Bsmt SF',\n",
    "       '1st Flr SF', '2nd Flr SF', 'Low Qual Fin SF', 'Gr Liv Area',\n",
    "       'Bsmt Full Bath', 'Bsmt Half Bath', 'Full Bath', 'Half Bath',\n",
    "       'Bedroom AbvGr', 'Kitchen AbvGr', 'TotRms AbvGrd', 'Fireplaces',\n",
    "       'Garage Yr Blt', 'Garage Cars', 'Garage Area', 'Wood Deck SF',\n",
    "       'Open Porch SF', 'Enclosed Porch', '3Ssn Porch', 'Screen Porch',\n",
    "       'Pool Area', 'Misc Val', 'Mo Sold', 'Yr Sold']]\n",
    "num_features_tf = FunctionTransformer(num_features, validate=False)"
   ]
  },
  {
   "cell_type": "code",
   "execution_count": 193,
   "metadata": {},
   "outputs": [
    {
     "name": "stdout",
     "output_type": "stream",
     "text": [
      "(1538, 1)\n"
     ]
    }
   ],
   "source": [
    "def mis_features(df):\n",
    "    misc = df[\"Misc Feature\"].unique()\n",
    "    return pd.DataFrame(df[\"Misc Feature\"].fillna(0).replace(misc, 1))\n",
    "mis_features_tf = FunctionTransformer(mis_features, validate=False)\n",
    "print(mis_features(X_train).shape)\n",
    "#mis_features(X_train)"
   ]
  },
  {
   "cell_type": "code",
   "execution_count": 194,
   "metadata": {},
   "outputs": [
    {
     "name": "stdout",
     "output_type": "stream",
     "text": [
      "(1538, 3)\n"
     ]
    }
   ],
   "source": [
    "def land_slope_d(df):\n",
    "    columns = pd.get_dummies(train[\"Land Slope\"]).columns\n",
    "#    print(columns)\n",
    "    return pd.get_dummies(df[\"Land Slope\"],columns={\"Land Slope\":{'Gtl', 'Mod', 'Sev'}})\n",
    "land_slope_d_tf = FunctionTransformer(land_slope_d, validate=False)\n",
    "print(land_slope_d(X_train).shape)\n",
    "#land_slope_d(X_train)"
   ]
  },
  {
   "cell_type": "code",
   "execution_count": 195,
   "metadata": {},
   "outputs": [
    {
     "data": {
      "text/plain": [
       "(1538, 5)"
      ]
     },
     "execution_count": 195,
     "metadata": {},
     "output_type": "execute_result"
    }
   ],
   "source": [
    "def bldg_type_d(df):\n",
    "    columns = pd.get_dummies(train[\"Bldg Type\"]).columns\n",
    "#    print(columns)\n",
    "    return pd.get_dummies(df[\"Bldg Type\"],columns={\"Bldg Type\": {'1Fam', '2fmCon', 'Duplex', 'Twnhs', 'TwnhsE'}})\n",
    "bldg_type_d_tf = FunctionTransformer(bldg_type_d, validate=False)\n",
    "bldg_type_d(X_train).shape"
   ]
  },
  {
   "cell_type": "code",
   "execution_count": 196,
   "metadata": {},
   "outputs": [
    {
     "data": {
      "text/plain": [
       "(1538, 10)"
      ]
     },
     "execution_count": 196,
     "metadata": {},
     "output_type": "execute_result"
    }
   ],
   "source": [
    "def overall_qual_d(df):\n",
    "    columns = pd.get_dummies(train[\"Overall Qual\"]).columns\n",
    "#    print(columns)\n",
    "    return pd.get_dummies(df[\"Overall Qual\"],columns={\"Overall Qual\":{1, 2, 3, 4, 5, 6, 7, 8, 9, 10}})\n",
    "overall_qual_d_tf = FunctionTransformer(overall_qual_d, validate=False)\n",
    "overall_qual_d(X_train).shape"
   ]
  },
  {
   "cell_type": "code",
   "execution_count": 197,
   "metadata": {},
   "outputs": [
    {
     "data": {
      "text/plain": [
       "(1538, 1)"
      ]
     },
     "execution_count": 197,
     "metadata": {},
     "output_type": "execute_result"
    }
   ],
   "source": [
    "def add_baths(df):\n",
    "    df[\"bathrooms\"] = df[\"Full Bath\"] + .5 * df[\"Half Bath\"]\n",
    "    return pd.DataFrame(df[\"bathrooms\"])\n",
    "add_baths_tf = FunctionTransformer(add_baths, validate=False)\n",
    "add_baths(X_train).shape"
   ]
  },
  {
   "cell_type": "code",
   "execution_count": 198,
   "metadata": {
    "collapsed": true
   },
   "outputs": [],
   "source": [
    "def poly_sf(df):\n",
    "    df_sf = df[[\"Lot Area\", \"1st Flr SF\", \"2nd Flr SF\", \"Bsmt Unf SF\", \"BsmtFin SF 1\", \"BsmtFin SF 2\", \"Gr Liv Area\",\"Low Qual Fin SF\",\"Total Bsmt SF\",\"Wood Deck SF\"]]\n",
    "    df_sf.replace(0,1,inplace=True)\n",
    "    df_sf.fillna(1,inplace=True)\n",
    "    return df_sf\n",
    "#i turned all of the zeros and NaN to 1's so what when they multiply with eachother they do not all come out to 0\n",
    "#poly_sf(X_train).isnull().sum()\n",
    "#poly_sf(X_train).info()\n",
    "#poly_sf(X_train).shape"
   ]
  },
  {
   "cell_type": "code",
   "execution_count": 199,
   "metadata": {
    "collapsed": true
   },
   "outputs": [],
   "source": [
    "def poly_t6(df):\n",
    "    df_t6 = df[[\"Overall Qual\",\"Garage Cars\",\"Garage Area\", \"1st Flr SF\", \"Gr Liv Area\",\"Total Bsmt SF\"]]\n",
    "    df_t6.replace(0,1,inplace=True)\n",
    "    df_t6.fillna(1,inplace=True)\n",
    "    return df_t6"
   ]
  },
  {
   "cell_type": "markdown",
   "metadata": {},
   "source": [
    "Function to make the test and train the same"
   ]
  },
  {
   "cell_type": "code",
   "execution_count": 200,
   "metadata": {
    "collapsed": true
   },
   "outputs": [],
   "source": [
    "def same_columns(train,test):\n",
    "    feature_difference = set(train) - set(test)\n",
    "    feature_difference_df = pd.DataFrame(data=np.zeros((test.shape[0], len(feature_difference))), columns=list(feature_difference))\n",
    "    test = test.join(feature_difference_df)\n",
    "    return test"
   ]
  },
  {
   "cell_type": "markdown",
   "metadata": {},
   "source": [
    "# Linear model"
   ]
  },
  {
   "cell_type": "code",
   "execution_count": 201,
   "metadata": {
    "collapsed": true
   },
   "outputs": [],
   "source": [
    "lm = linear_model.LinearRegression()\n",
    "ss = StandardScaler()\n",
    "imputer = Imputer()\n",
    "poly = PolynomialFeatures(include_bias=False)\n",
    "vec = CountVectorizer()"
   ]
  },
  {
   "cell_type": "code",
   "execution_count": 205,
   "metadata": {},
   "outputs": [
    {
     "data": {
      "text/plain": [
       "array([[7, 2.0, 576.0, ..., 0, 0, 2.0],\n",
       "       [8, 2.0, 575.0, ..., 0, 0, 2.5],\n",
       "       [7, 2.0, 578.0, ..., 0, 0, 2.0],\n",
       "       ...,\n",
       "       [5, 1.0, 240.0, ..., 0, 0, 1.0],\n",
       "       [8, 2.0, 499.0, ..., 0, 1, 2.0],\n",
       "       [5, 1.0, 240.0, ..., 0, 0, 1.0]], dtype=object)"
      ]
     },
     "execution_count": 205,
     "metadata": {},
     "output_type": "execute_result"
    }
   ],
   "source": [
    "featureslm = FeatureUnion([\n",
    "     (\"basic_features_tf\", basic_features_tf),\n",
    "     (\"mis_features_tf\", mis_features_tf),\n",
    "     (\"land_slope_d_tf\", land_slope_d_tf),\n",
    "     (\"bldg_type_d_tf\", bldg_type_d_tf),\n",
    "#     (\"overall_qual_d_tf\", overall_qual_d_tf),\n",
    "     (\"add_baths_tf\", add_baths_tf)\n",
    "])\n",
    "featureslm.transform(X_train)"
   ]
  },
  {
   "cell_type": "code",
   "execution_count": 206,
   "metadata": {
    "collapsed": true
   },
   "outputs": [],
   "source": [
    "pipelm = Pipeline([\n",
    "    (\"featureslm\", featureslm),\n",
    "    (\"imputer\", imputer),\n",
    "    (\"ss\", ss),\n",
    "    (\"lm\", lm)\n",
    "])"
   ]
  },
  {
   "cell_type": "code",
   "execution_count": 207,
   "metadata": {
    "scrolled": false
   },
   "outputs": [
    {
     "name": "stdout",
     "output_type": "stream",
     "text": [
      "0.7967203042275135\n"
     ]
    },
    {
     "data": {
      "text/plain": [
       "{'imputer__strategy': 'median'}"
      ]
     },
     "execution_count": 207,
     "metadata": {},
     "output_type": "execute_result"
    }
   ],
   "source": [
    "params = {\n",
    "    \"imputer__strategy\" : [\"mean\", \"median\", \"most_frequent\"]\n",
    "}\n",
    "gs = GridSearchCV(pipelm, param_grid=params)\n",
    "gs.fit(X_train, y_train)\n",
    "print(gs.best_score_)\n",
    "gs.best_params_"
   ]
  },
  {
   "cell_type": "code",
   "execution_count": 208,
   "metadata": {},
   "outputs": [
    {
     "data": {
      "text/plain": [
       "0.7017205956321881"
      ]
     },
     "execution_count": 208,
     "metadata": {},
     "output_type": "execute_result"
    }
   ],
   "source": [
    "gs.score(X_test, y_test)"
   ]
  },
  {
   "cell_type": "code",
   "execution_count": 209,
   "metadata": {},
   "outputs": [
    {
     "data": {
      "text/plain": [
       "(513, 82)"
      ]
     },
     "execution_count": 209,
     "metadata": {},
     "output_type": "execute_result"
    }
   ],
   "source": [
    "X_test.shape"
   ]
  },
  {
   "cell_type": "code",
   "execution_count": null,
   "metadata": {
    "collapsed": true
   },
   "outputs": [],
   "source": []
  },
  {
   "cell_type": "code",
   "execution_count": 210,
   "metadata": {},
   "outputs": [],
   "source": [
    "#test[\"SalePrice\"] = gs.predict(test)"
   ]
  },
  {
   "cell_type": "markdown",
   "metadata": {},
   "source": [
    "Export data"
   ]
  },
  {
   "cell_type": "code",
   "execution_count": 211,
   "metadata": {
    "collapsed": true
   },
   "outputs": [],
   "source": [
    "#test[[\"Id\", \"SalePrice\"]].to_csv(\"ames_regln2.csv\", index=False)"
   ]
  },
  {
   "cell_type": "markdown",
   "metadata": {},
   "source": [
    "# LASSO"
   ]
  },
  {
   "cell_type": "code",
   "execution_count": 212,
   "metadata": {
    "collapsed": true
   },
   "outputs": [],
   "source": [
    "lm = linear_model.LinearRegression()\n",
    "ss = StandardScaler()\n",
    "lasso = Lasso()\n",
    "imputer = Imputer()\n",
    "polyL = PolynomialFeatures(include_bias=False)"
   ]
  },
  {
   "cell_type": "code",
   "execution_count": 214,
   "metadata": {},
   "outputs": [
    {
     "data": {
      "text/plain": [
       "array([[7, 2.0, 576.0, ..., 0, 0, 2.0],\n",
       "       [8, 2.0, 575.0, ..., 0, 0, 2.5],\n",
       "       [7, 2.0, 578.0, ..., 0, 0, 2.0],\n",
       "       ...,\n",
       "       [5, 1.0, 240.0, ..., 0, 0, 1.0],\n",
       "       [8, 2.0, 499.0, ..., 0, 1, 2.0],\n",
       "       [5, 1.0, 240.0, ..., 0, 0, 1.0]], dtype=object)"
      ]
     },
     "execution_count": 214,
     "metadata": {},
     "output_type": "execute_result"
    }
   ],
   "source": [
    "featuresL = FeatureUnion([\n",
    "    (\"basic_features_tf\", basic_features_tf),\n",
    "    (\"num_features_tf\", num_features_tf),\n",
    "    (\"mis_features_tf\", mis_features_tf),\n",
    "    (\"land_slope_d_tf\", land_slope_d_tf),\n",
    "    (\"bldg_type_d_tf\", bldg_type_d_tf),\n",
    "#    (\"overall_qual_d_tf\", overall_qual_d_tf),\n",
    "    (\"add_baths_tf\", add_baths_tf)\n",
    "])\n",
    "featuresL.transform(X_train)"
   ]
  },
  {
   "cell_type": "code",
   "execution_count": 215,
   "metadata": {},
   "outputs": [],
   "source": [
    "pipeL = Pipeline([\n",
    "    (\"featuresL\", featuresL),\n",
    "    (\"imputer\", imputer),\n",
    "    (\"ss\", ss),\n",
    "    (\"lasso\", lasso)\n",
    "])"
   ]
  },
  {
   "cell_type": "code",
   "execution_count": 216,
   "metadata": {},
   "outputs": [
    {
     "name": "stdout",
     "output_type": "stream",
     "text": [
      "0.8157641870102059\n"
     ]
    },
    {
     "data": {
      "text/plain": [
       "{'imputer__strategy': 'most_frequent', 'lasso__alpha': 10}"
      ]
     },
     "execution_count": 216,
     "metadata": {},
     "output_type": "execute_result"
    }
   ],
   "source": [
    "params = {\n",
    "    \"imputer__strategy\" : [\"mean\", \"median\", \"most_frequent\"],\n",
    "    \"lasso__alpha\" : [1,2,3,4,5,6,7,8,9,10]\n",
    "}\n",
    "gs = GridSearchCV(pipeL, param_grid=params)\n",
    "gs.fit(X_train, y_train)\n",
    "print(gs.best_score_)\n",
    "gs.best_params_"
   ]
  },
  {
   "cell_type": "code",
   "execution_count": 217,
   "metadata": {
    "scrolled": true
   },
   "outputs": [
    {
     "data": {
      "text/plain": [
       "0.6978493769566345"
      ]
     },
     "execution_count": 217,
     "metadata": {},
     "output_type": "execute_result"
    }
   ],
   "source": [
    "gs.score(X_test, y_test)"
   ]
  },
  {
   "cell_type": "code",
   "execution_count": 218,
   "metadata": {},
   "outputs": [
    {
     "data": {
      "text/plain": [
       "(879,)"
      ]
     },
     "execution_count": 218,
     "metadata": {},
     "output_type": "execute_result"
    }
   ],
   "source": [
    "gs.predict(test).shape"
   ]
  },
  {
   "cell_type": "code",
   "execution_count": 219,
   "metadata": {
    "collapsed": true
   },
   "outputs": [],
   "source": [
    "#test[\"SalePrice\"] = gs.predict(test)"
   ]
  },
  {
   "cell_type": "code",
   "execution_count": 220,
   "metadata": {
    "collapsed": true
   },
   "outputs": [],
   "source": [
    "#test[[\"Id\", \"SalePrice\"]].to_csv(\"ames_regL1.csv\", index=False)"
   ]
  },
  {
   "cell_type": "code",
   "execution_count": null,
   "metadata": {
    "collapsed": true
   },
   "outputs": [],
   "source": []
  },
  {
   "cell_type": "markdown",
   "metadata": {},
   "source": [
    "# RIDGE"
   ]
  },
  {
   "cell_type": "code",
   "execution_count": 221,
   "metadata": {
    "collapsed": true
   },
   "outputs": [],
   "source": [
    "lm = linear_model.LinearRegression()\n",
    "ss = StandardScaler()\n",
    "ridge = Ridge()\n",
    "imputer = Imputer()"
   ]
  },
  {
   "cell_type": "code",
   "execution_count": 222,
   "metadata": {},
   "outputs": [
    {
     "data": {
      "text/plain": [
       "array([[7, 2.0, 576.0, ..., 0, 0, 2.0],\n",
       "       [8, 2.0, 575.0, ..., 0, 0, 2.5],\n",
       "       [7, 2.0, 578.0, ..., 0, 0, 2.0],\n",
       "       ...,\n",
       "       [5, 1.0, 240.0, ..., 0, 0, 1.0],\n",
       "       [8, 2.0, 499.0, ..., 0, 0, 2.0],\n",
       "       [5, 1.0, 240.0, ..., 0, 0, 1.0]], dtype=object)"
      ]
     },
     "execution_count": 222,
     "metadata": {},
     "output_type": "execute_result"
    }
   ],
   "source": [
    "featuresR = FeatureUnion([\n",
    "    (\"basic_features_tf\", basic_features_tf),\n",
    "    (\"num_features_tf\", num_features_tf),\n",
    "    (\"mis_features_tf\", mis_features_tf),\n",
    "    (\"land_slope_d_tf\", land_slope_d_tf),\n",
    "    (\"bldg_type_d_tf\", bldg_type_d_tf),\n",
    "    (\"overall_qual_d_tf\", overall_qual_d_tf),\n",
    "   (\"add_baths_tf\", add_baths_tf)\n",
    "])\n",
    "featuresR.transform(X_train)"
   ]
  },
  {
   "cell_type": "code",
   "execution_count": 223,
   "metadata": {
    "collapsed": true
   },
   "outputs": [],
   "source": [
    "pipeR = Pipeline([\n",
    "    (\"featuresR\", featuresR),\n",
    "    (\"imputer\", imputer),\n",
    "    (\"ss\", ss),\n",
    "    (\"ridge\", ridge)\n",
    "])"
   ]
  },
  {
   "cell_type": "code",
   "execution_count": 224,
   "metadata": {
    "collapsed": true
   },
   "outputs": [],
   "source": [
    "pipeR_p = Pipeline([\n",
    "    (\"featuresR\", featuresR),\n",
    "    (\"imputer\", imputer),\n",
    "    (\"ss\", ss),\n",
    "])"
   ]
  },
  {
   "cell_type": "code",
   "execution_count": 225,
   "metadata": {},
   "outputs": [
    {
     "name": "stdout",
     "output_type": "stream",
     "text": [
      "0.8534776283532125\n"
     ]
    },
    {
     "data": {
      "text/plain": [
       "{'imputer__strategy': 'most_frequent', 'ridge__alpha': 10}"
      ]
     },
     "execution_count": 225,
     "metadata": {},
     "output_type": "execute_result"
    }
   ],
   "source": [
    "params = {\n",
    "    \"imputer__strategy\" : [\"mean\", \"median\", \"most_frequent\"],\n",
    "    \"ridge__alpha\" : [1,2,3,4,5,6,7,8,9,10]\n",
    "}\n",
    "gs = GridSearchCV(pipeR, param_grid=params)\n",
    "gs.fit(X_train, y_train)\n",
    "print(gs.best_score_)\n",
    "gs.best_params_"
   ]
  },
  {
   "cell_type": "code",
   "execution_count": 226,
   "metadata": {},
   "outputs": [
    {
     "data": {
      "text/plain": [
       "0.7284158000966925"
      ]
     },
     "execution_count": 226,
     "metadata": {},
     "output_type": "execute_result"
    }
   ],
   "source": [
    "gs.score(X_test, y_test)"
   ]
  },
  {
   "cell_type": "code",
   "execution_count": 227,
   "metadata": {},
   "outputs": [
    {
     "data": {
      "text/plain": [
       "(513,)"
      ]
     },
     "execution_count": 227,
     "metadata": {},
     "output_type": "execute_result"
    }
   ],
   "source": [
    "gs.predict(X_test).shape"
   ]
  },
  {
   "cell_type": "code",
   "execution_count": 228,
   "metadata": {
    "collapsed": true
   },
   "outputs": [],
   "source": [
    "#test[\"SalePrice\"] = gs.predict(test)"
   ]
  },
  {
   "cell_type": "code",
   "execution_count": 229,
   "metadata": {
    "collapsed": true
   },
   "outputs": [],
   "source": [
    "#test[[\"Id\", \"SalePrice\"]].to_csv(\"ames_regR1.csv\", index=False)"
   ]
  },
  {
   "cell_type": "code",
   "execution_count": null,
   "metadata": {
    "collapsed": true
   },
   "outputs": [],
   "source": []
  },
  {
   "cell_type": "markdown",
   "metadata": {},
   "source": [
    "I decided to use my Ridge regression as my final submission. Ridge had the highest score and was the one I felt most confident with. "
   ]
  },
  {
   "cell_type": "code",
   "execution_count": null,
   "metadata": {
    "collapsed": true
   },
   "outputs": [],
   "source": []
  }
 ],
 "metadata": {
  "kernelspec": {
   "display_name": "Python 3",
   "language": "python",
   "name": "python3"
  },
  "language_info": {
   "codemirror_mode": {
    "name": "ipython",
    "version": 3
   },
   "file_extension": ".py",
   "mimetype": "text/x-python",
   "name": "python",
   "nbconvert_exporter": "python",
   "pygments_lexer": "ipython3",
   "version": "3.6.3"
  }
 },
 "nbformat": 4,
 "nbformat_minor": 2
}
